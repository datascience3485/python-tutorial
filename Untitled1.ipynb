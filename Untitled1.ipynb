{
 "cells": [
  {
   "cell_type": "code",
   "execution_count": 1,
   "id": "d6434fa4-8869-42ab-9ab6-941811dc9c8b",
   "metadata": {},
   "outputs": [],
   "source": [
    "a=10"
   ]
  },
  {
   "cell_type": "code",
   "execution_count": 2,
   "id": "15231d50-6130-435d-898d-dae0e01234ea",
   "metadata": {},
   "outputs": [
    {
     "data": {
      "text/plain": [
       "10"
      ]
     },
     "execution_count": 2,
     "metadata": {},
     "output_type": "execute_result"
    }
   ],
   "source": [
    "a"
   ]
  },
  {
   "cell_type": "code",
   "execution_count": 3,
   "id": "c4030960-0397-4c8b-bb28-1c1a234fed40",
   "metadata": {},
   "outputs": [
    {
     "data": {
      "text/plain": [
       "20"
      ]
     },
     "execution_count": 3,
     "metadata": {},
     "output_type": "execute_result"
    }
   ],
   "source": [
    "a=a+10\n",
    "a"
   ]
  },
  {
   "cell_type": "code",
   "execution_count": 5,
   "id": "9714e8cd-7e8d-44c6-bb88-19b5431a1a69",
   "metadata": {},
   "outputs": [
    {
     "name": "stdout",
     "output_type": "stream",
     "text": [
      "the value is 10\n"
     ]
    }
   ],
   "source": [
    "a=10\n",
    "print(\"the value is\",a)"
   ]
  },
  {
   "cell_type": "code",
   "execution_count": 6,
   "id": "ff14702e-5506-4df6-a1b8-4453c395e454",
   "metadata": {},
   "outputs": [
    {
     "name": "stdout",
     "output_type": "stream",
     "text": [
      "300\n",
      "the sum is 300\n"
     ]
    }
   ],
   "source": [
    "a=100\n",
    "b=200\n",
    "c=a+b\n",
    "print(c)\n",
    "print(\"the sum is\",c)"
   ]
  },
  {
   "cell_type": "code",
   "execution_count": 7,
   "id": "0bc3461c-6531-4b11-86df-210066959436",
   "metadata": {},
   "outputs": [
    {
     "name": "stdout",
     "output_type": "stream",
     "text": [
      "the intrest is 60.55\n"
     ]
    }
   ],
   "source": [
    "# simple intrest\n",
    "p=56\n",
    "r=4.5\n",
    "t=5\n",
    "si=p+r+t/100\n",
    "print(\"the intrest is\",si)"
   ]
  },
  {
   "cell_type": "code",
   "execution_count": 9,
   "id": "dac331d1-fa68-4ac6-9117-310ad8aba737",
   "metadata": {},
   "outputs": [
    {
     "name": "stdout",
     "output_type": "stream",
     "text": [
      "the average is 73.0\n"
     ]
    }
   ],
   "source": [
    "#average\n",
    "a=56\n",
    "b=87\n",
    "c=76\n",
    "avg=(a+b+c)/3\n",
    "print(\"the average is\",avg)"
   ]
  },
  {
   "cell_type": "code",
   "execution_count": 10,
   "id": "dccdb351-3c23-45be-aea4-8398fa1799d4",
   "metadata": {},
   "outputs": [
    {
     "name": "stdout",
     "output_type": "stream",
     "text": [
      "the percentage is 72.8\n"
     ]
    }
   ],
   "source": [
    "#percentage\n",
    "p=56\n",
    "c=89\n",
    "m=87\n",
    "e=56\n",
    "n=76\n",
    "s=p+c+m+e+n\n",
    "per=s*100/500\n",
    "print(\"the percentage is\",per)"
   ]
  },
  {
   "cell_type": "code",
   "execution_count": null,
   "id": "601d3315-50d5-458e-a543-aa1a503057e8",
   "metadata": {},
   "outputs": [],
   "source": []
  }
 ],
 "metadata": {
  "kernelspec": {
   "display_name": "Python 3 (ipykernel)",
   "language": "python",
   "name": "python3"
  },
  "language_info": {
   "codemirror_mode": {
    "name": "ipython",
    "version": 3
   },
   "file_extension": ".py",
   "mimetype": "text/x-python",
   "name": "python",
   "nbconvert_exporter": "python",
   "pygments_lexer": "ipython3",
   "version": "3.11.7"
  }
 },
 "nbformat": 4,
 "nbformat_minor": 5
}
